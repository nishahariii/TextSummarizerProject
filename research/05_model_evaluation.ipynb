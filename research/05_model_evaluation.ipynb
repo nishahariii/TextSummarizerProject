{
 "cells": [
  {
   "cell_type": "code",
   "execution_count": 4,
   "id": "65b0fa32",
   "metadata": {},
   "outputs": [
    {
     "data": {
      "text/plain": [
       "'f:\\\\Data Scientist\\\\TextSummarizerProject\\\\research'"
      ]
     },
     "execution_count": 4,
     "metadata": {},
     "output_type": "execute_result"
    }
   ],
   "source": [
    "import os\n",
    "%pwd"
   ]
  },
  {
   "cell_type": "code",
   "execution_count": 5,
   "id": "b6a8541d",
   "metadata": {},
   "outputs": [
    {
     "data": {
      "text/plain": [
       "'f:\\\\Data Scientist\\\\TextSummarizerProject'"
      ]
     },
     "execution_count": 5,
     "metadata": {},
     "output_type": "execute_result"
    }
   ],
   "source": [
    "os.chdir('../')\n",
    "%pwd"
   ]
  },
  {
   "cell_type": "code",
   "execution_count": 7,
   "id": "eb7ca9c9",
   "metadata": {},
   "outputs": [],
   "source": [
    "from dataclasses import dataclass\n",
    "from pathlib import Path\n",
    "\n",
    "@dataclass (frozen=True )\n",
    "\n",
    "class ModelEvaluationConfig:\n",
    "    root_dir: Path\n",
    "    data_path: Path\n",
    "    model_path: Path\n",
    "    tokenizer_path: Path\n",
    "    metrics_file_name: Path\n"
   ]
  },
  {
   "cell_type": "code",
   "execution_count": 1,
   "id": "8f16edd7",
   "metadata": {},
   "outputs": [],
   "source": [
    "from textSummarizer.constants.constants import *\n",
    "from textSummarizer.utils.common import read_yaml, create_directories"
   ]
  },
  {
   "cell_type": "code",
   "execution_count": 8,
   "id": "a41f4d7b",
   "metadata": {},
   "outputs": [],
   "source": [
    "class ConfigurationManager:\n",
    "    def __init__(self, config_filepath= CONFIG_FILE_PATH, params_filepath = PARAMS_FILE_PATH):\n",
    "        self.config = read_yaml(config_filepath)\n",
    "        self.params = read_yaml(params_filepath)\n",
    "        create_directories([self.config.artifacts_root])\n",
    "\n",
    "    def get_model_evaluation_config(self) -> ModelEvaluationConfig:\n",
    "        config = self.config.model_evaluation\n",
    "        create_directories([config.root_dir])\n",
    "        model_evaluation_config = ModelEvaluationConfig(\n",
    "            root_dir=config.root_dir,\n",
    "            data_path=config.data_path,\n",
    "            model_path=config.model_path,\n",
    "            tokenizer_path=config.tokenizer_path,\n",
    "            metrics_file_name=config.metrics_file_name\n",
    "        )\n",
    "        return model_evaluation_config"
   ]
  },
  {
   "cell_type": "code",
   "execution_count": 10,
   "id": "698f39d4",
   "metadata": {},
   "outputs": [],
   "source": [
    "from transformers import AutoModelForSeq2SeqLM , AutoTokenizer\n",
    "from datasets import load_dataset, load_from_disk\n",
    "import evaluate\n",
    "import torch\n",
    "import pandas as pd\n",
    "from tqdm import tqdm"
   ]
  },
  {
   "cell_type": "code",
   "execution_count": 23,
   "id": "8d3071ca",
   "metadata": {},
   "outputs": [],
   "source": [
    "class ModelEvaluation:\n",
    "    def __init__(self, config: ModelEvaluationConfig):\n",
    "        self.config = config\n",
    "        # self.model = AutoModelForSeq2SeqLM.from_pretrained(config.model_path)\n",
    "        # self.tokenizer = AutoTokenizer.from_pretrained(config.tokenizer_path)\n",
    "        # self.metric = evaluate.load(\"rouge\")\n",
    "\n",
    "    def generate_batch_sized_chunks(self,list_of_elements, batch_size):\n",
    "        for i in range(0, len(list_of_elements), batch_size):\n",
    "            yield list_of_elements[i : i + batch_size]\n",
    "\n",
    "\n",
    "\n",
    "    def calculate_metric_on_test_ds(self,dataset, metric, model, tokenizer,batch_size=16,\n",
    "            device=\"cuda\" if torch.cuda.is_available() else \"cpu\",column_text=\"article\",column_summary=\"highlights\"):\n",
    "        article_batches = list(self.generate_batch_sized_chunks(dataset[column_text], batch_size))\n",
    "        target_batches = list(self.generate_batch_sized_chunks(dataset[column_summary], batch_size))\n",
    "\n",
    "        for article_batch, target_batch in tqdm(\n",
    "            zip(article_batches, target_batches), total=len(article_batches)):\n",
    "\n",
    "            inputs = tokenizer(article_batch, max_length=1024,  truncation=True,\n",
    "                            padding=\"max_length\", return_tensors=\"pt\")\n",
    "\n",
    "            summaries = model.generate(input_ids=inputs[\"input_ids\"].to(device),\n",
    "                            attention_mask=inputs[\"attention_mask\"].to(device),\n",
    "                            length_penalty=0.8, num_beams=8, max_length=128)\n",
    "            # Finally, we decode the generated texts,\n",
    "            # replace the  token, and add the decoded texts with the references to the metric.\n",
    "            decoded_summaries = [tokenizer.decode(s, skip_special_tokens=True,\n",
    "                                    clean_up_tokenization_spaces=True)\n",
    "                for s in summaries]\n",
    "\n",
    "            decoded_summaries = [d.replace(\"\", \" \") for d in decoded_summaries]\n",
    "\n",
    "\n",
    "            metric.add_batch(predictions=decoded_summaries, references=target_batch)\n",
    "\n",
    "        #  Finally compute and return the ROUGE scores.\n",
    "        score = metric.compute()\n",
    "        return score\n",
    "    \n",
    "    def evaluate(self):\n",
    "        device = \"cuda\" if torch.cuda.is_available() else \"cpu\"\n",
    "        tokenizer = AutoTokenizer.from_pretrained(self.config.tokenizer_path)\n",
    "        model_pegasus = AutoModelForSeq2SeqLM.from_pretrained(self.config.model_path).to(device)\n",
    "        dataset_samsum_pt = load_from_disk(self.config.data_path)\n",
    "        rogue_names = [\"rouge1\", \"rouge2\", \"rougeL\", \"rougeLsum\"]\n",
    "        rogue_metric =  evaluate.load(\"rouge\")\n",
    "        score = self.calculate_metric_on_test_ds(dataset_samsum_pt[\"test\"][0:10], rogue_metric, model_pegasus, \n",
    "                                                 tokenizer, batch_size=2, device=device, column_text = 'dialogue', column_summary= 'summary')\n",
    "        print(score)\n",
    "        # rogue_dict = dict((rn, score[rn].fmeasure) for rn in rogue_names)\n",
    "        # df = pd.DataFrame(rogue_dict, index=['pegasus'])\n",
    "        # df.to_csv(self.config.metrics_file_name, index=False)\n"
   ]
  },
  {
   "cell_type": "code",
   "execution_count": 24,
   "id": "d690b2d3",
   "metadata": {},
   "outputs": [
    {
     "name": "stdout",
     "output_type": "stream",
     "text": [
      "[2025-06-30 22:32:50,240:INFO:common:yaml file: config\\config.yaml loaded successfully.]\n",
      "[2025-06-30 22:32:50,324:INFO:common:yaml file: params.yaml loaded successfully.]\n",
      "[2025-06-30 22:32:50,356:INFO:common:created directory at: artifacts]\n",
      "[2025-06-30 22:32:50,363:INFO:common:created directory at: artifacts/model_evaluation]\n"
     ]
    },
    {
     "name": "stderr",
     "output_type": "stream",
     "text": [
      "100%|██████████| 5/5 [13:24:32<00:00, 9654.50s/it]   \n"
     ]
    },
    {
     "name": "stdout",
     "output_type": "stream",
     "text": [
      "[2025-07-01 11:57:35,913:INFO:rouge_scorer:Using default tokenizer.]\n",
      "{'rouge1': np.float64(0.01747605791157704), 'rouge2': np.float64(0.0), 'rougeL': np.float64(0.01781609337738123), 'rougeLsum': np.float64(0.017600757382384504)}\n"
     ]
    }
   ],
   "source": [
    "try:\n",
    "    config = ConfigurationManager()\n",
    "    model_evaluation_config = config.get_model_evaluation_config()\n",
    "    model_evaluation_config = ModelEvaluation(model_evaluation_config)\n",
    "    model_evaluation_config.evaluate()\n",
    "except Exception as e:\n",
    "    raise e"
   ]
  },
  {
   "cell_type": "code",
   "execution_count": null,
   "id": "869797e3",
   "metadata": {},
   "outputs": [],
   "source": []
  }
 ],
 "metadata": {
  "kernelspec": {
   "display_name": "vir_env-3.12",
   "language": "python",
   "name": "python3"
  },
  "language_info": {
   "codemirror_mode": {
    "name": "ipython",
    "version": 3
   },
   "file_extension": ".py",
   "mimetype": "text/x-python",
   "name": "python",
   "nbconvert_exporter": "python",
   "pygments_lexer": "ipython3",
   "version": "3.12.10"
  }
 },
 "nbformat": 4,
 "nbformat_minor": 5
}
