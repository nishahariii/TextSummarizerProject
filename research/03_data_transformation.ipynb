{
 "cells": [
  {
   "cell_type": "code",
   "execution_count": 1,
   "id": "85d63bb0",
   "metadata": {},
   "outputs": [
    {
     "data": {
      "text/plain": [
       "'f:\\\\Data Scientist\\\\TextSummarizerProject\\\\research'"
      ]
     },
     "execution_count": 1,
     "metadata": {},
     "output_type": "execute_result"
    }
   ],
   "source": [
    "import os\n",
    "%pwd"
   ]
  },
  {
   "cell_type": "code",
   "execution_count": 2,
   "id": "6a9e120d",
   "metadata": {},
   "outputs": [
    {
     "data": {
      "text/plain": [
       "'f:\\\\Data Scientist\\\\TextSummarizerProject'"
      ]
     },
     "execution_count": 2,
     "metadata": {},
     "output_type": "execute_result"
    }
   ],
   "source": [
    "os.chdir(\"../\")\n",
    "%pwd"
   ]
  },
  {
   "cell_type": "code",
   "execution_count": 3,
   "id": "429bfaae",
   "metadata": {},
   "outputs": [],
   "source": [
    "from dataclasses import dataclass\n",
    "from pathlib import Path\n",
    "\n",
    "@dataclass (frozen=True)\n",
    "class DataTransformationConfig:\n",
    "    root_dir: Path\n",
    "    data_path: Path\n",
    "    tokenizer_name: str\n",
    "    \n",
    "    # tokenizer_name: Path"
   ]
  },
  {
   "cell_type": "code",
   "execution_count": 4,
   "id": "206e4ba1",
   "metadata": {},
   "outputs": [],
   "source": [
    "from textSummarizer.constants.constants import *\n",
    "from textSummarizer.utils.common import read_yaml, create_directories"
   ]
  },
  {
   "cell_type": "code",
   "execution_count": 5,
   "id": "e352edbe",
   "metadata": {},
   "outputs": [],
   "source": [
    "class ConfigurationManager:\n",
    "    def __init__(self, config_filepath= CONFIG_FILE_PATH, params_filepath = PARAMS_FILE_PATH):\n",
    "        self.config = read_yaml(config_filepath)\n",
    "        self.params = read_yaml(params_filepath)\n",
    "        create_directories([self.config.artifacts_root])\n",
    "    \n",
    "    def get_data_transformation_config(self) -> DataTransformationConfig:\n",
    "        config = self.config.data_transformation\n",
    "        create_directories([config.root_dir])\n",
    "        data_transformation_config = DataTransformationConfig(\n",
    "            root_dir= Path(config.root_dir),\n",
    "            data_path= Path(config.data_path),\n",
    "            # tokenizer_name=Path(config.tokenizer_name)\n",
    "            tokenizer_name=config.tokenizer_name\n",
    "        )\n",
    "        return data_transformation_config"
   ]
  },
  {
   "cell_type": "code",
   "execution_count": 6,
   "id": "e9cd82f3",
   "metadata": {},
   "outputs": [
    {
     "name": "stderr",
     "output_type": "stream",
     "text": [
      "f:\\Data Scientist\\TextSummarizerProject\\vir_env-3.12\\Lib\\site-packages\\tqdm\\auto.py:21: TqdmWarning: IProgress not found. Please update jupyter and ipywidgets. See https://ipywidgets.readthedocs.io/en/stable/user_install.html\n",
      "  from .autonotebook import tqdm as notebook_tqdm\n",
      "None of PyTorch, TensorFlow >= 2.0, or Flax have been found. Models won't be available and only tokenizers, configuration and file/data utilities can be used.\n"
     ]
    }
   ],
   "source": [
    "import os\n",
    "from textSummarizer.logging import logger\n",
    "from transformers import AutoTokenizer\n",
    "from datasets import load_dataset, load_from_disk"
   ]
  },
  {
   "cell_type": "code",
   "execution_count": 7,
   "id": "79f78837",
   "metadata": {},
   "outputs": [],
   "source": [
    "class DataTransformation:\n",
    "    def __init__(self, config: DataTransformationConfig):\n",
    "        self.config = config\n",
    "        self.tokenizer = AutoTokenizer.from_pretrained(self.config.tokenizer_name, use_fast=False)\n",
    "    # def __init__(self, config: DataTransformationConfig):\n",
    "    #     self.config = config\n",
    "    #     tokenizer_name = str(self.config.tokenizer_name).replace(\"\\\\\", \"/\")\n",
    "    #     self.tokenizer = AutoTokenizer.from_pretrained(tokenizer_name)\n",
    "\n",
    "    def convert_examples_to_features(self, example_batch):\n",
    "        input_recordings = self.tokenizer(example_batch['dialogue'], max_length=1024, truncation=True, padding='max_length')\n",
    "\n",
    "        with self.tokenizer.as_target_tokenizer():\n",
    "            target_recordings = self.tokenizer(example_batch['summary'], max_length=128, truncation=True, padding='max_length')\n",
    "        return {\n",
    "            'input_ids': input_recordings['input_ids'],\n",
    "            'attention_mask': input_recordings['attention_mask'],\n",
    "            'labels': target_recordings['input_ids']\n",
    "        }\n",
    "    def convert(self):\n",
    "        dataset_samsum = load_from_disk(self.config.data_path)\n",
    "        dataset_samsum_pt = dataset_samsum.map(self.convert_examples_to_features, batched=True)\n",
    "        dataset_samsum_pt.save_to_disk(os.path.join(self.config.root_dir, 'samsum_dataset'))"
   ]
  },
  {
   "cell_type": "code",
   "execution_count": 8,
   "id": "b0ed1ff2",
   "metadata": {},
   "outputs": [
    {
     "name": "stdout",
     "output_type": "stream",
     "text": [
      "[2025-06-27 07:27:07,399:INFO:common:yaml file: config\\config.yaml loaded successfully.]\n",
      "[2025-06-27 07:27:07,402:INFO:common:yaml file: params.yaml loaded successfully.]\n",
      "[2025-06-27 07:27:07,406:INFO:common:created directory at: artifacts]\n",
      "[2025-06-27 07:27:07,407:INFO:common:created directory at: artifacts/data_transformation]\n"
     ]
    },
    {
     "name": "stderr",
     "output_type": "stream",
     "text": [
      "Map:   0%|          | 0/14732 [00:00<?, ? examples/s]f:\\Data Scientist\\TextSummarizerProject\\vir_env-3.12\\Lib\\site-packages\\transformers\\tokenization_utils_base.py:3951: UserWarning: `as_target_tokenizer` is deprecated and will be removed in v5 of Transformers. You can tokenize your labels by using the argument `text_target` of the regular `__call__` method (either in the same call as your input texts if you use the same keyword arguments, or in a separate call.\n",
      "  warnings.warn(\n",
      "Map: 100%|██████████| 14732/14732 [00:33<00:00, 439.00 examples/s]\n",
      "Map: 100%|██████████| 819/819 [00:01<00:00, 418.31 examples/s]\n",
      "Map: 100%|██████████| 818/818 [00:01<00:00, 445.81 examples/s]\n",
      "Saving the dataset (1/1 shards): 100%|██████████| 14732/14732 [00:01<00:00, 9477.53 examples/s]\n",
      "Saving the dataset (1/1 shards): 100%|██████████| 819/819 [00:00<00:00, 24328.67 examples/s] \n",
      "Saving the dataset (1/1 shards): 100%|██████████| 818/818 [00:00<00:00, 39551.12 examples/s]\n"
     ]
    }
   ],
   "source": [
    "try:\n",
    "    config = ConfigurationManager()\n",
    "    data_transformation_config = config.get_data_transformation_config()\n",
    "    # data_transformation_config = DataTransformationConfig(\n",
    "    #     root_dir=data_transformation_config.root_dir,\n",
    "    #     data_path=data_transformation_config.data_path,\n",
    "    #     tokenizer_name=\"google/pegasus-cnn_dailymail\"\n",
    "    # )\n",
    "    data_transformation = DataTransformation(config=data_transformation_config)\n",
    "    data_transformation.convert()\n",
    "except Exception as e:\n",
    "    raise"
   ]
  }
 ],
 "metadata": {
  "kernelspec": {
   "display_name": "vir_env-3.12",
   "language": "python",
   "name": "python3"
  },
  "language_info": {
   "codemirror_mode": {
    "name": "ipython",
    "version": 3
   },
   "file_extension": ".py",
   "mimetype": "text/x-python",
   "name": "python",
   "nbconvert_exporter": "python",
   "pygments_lexer": "ipython3",
   "version": "3.12.10"
  }
 },
 "nbformat": 4,
 "nbformat_minor": 5
}
