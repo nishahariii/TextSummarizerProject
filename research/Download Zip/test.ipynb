{
 "cells": [
  {
   "cell_type": "code",
   "execution_count": null,
   "id": "0da103d9",
   "metadata": {},
   "outputs": [
    {
     "name": "stdout",
     "output_type": "stream",
     "text": [
      "File downloaded successfully to downloaded_file.txt\n"
     ]
    }
   ],
   "source": [
    "import urllib.request\n",
    "from urllib.error import HTTPError, URLError\n",
    "\n",
    "url = \"https://github.com/nishahariii/DataSets/blob/main/samsumdata.zip\"\n",
    "filename = \"data_ingestion_data.zip\"\n",
    "\n",
    "try:\n",
    "    urllib.request.urlretrieve(url, filename)\n",
    "    print(f\"File downloaded successfully to {filename}\")\n",
    "except HTTPError as e:\n",
    "    if e.code == 404:\n",
    "        print(f\"HTTP Error 404: The requested resource at {url} was not found.\")\n",
    "    else:\n",
    "        print(f\"HTTP Error {e.code}: {e.reason} for URL: {url}\")\n",
    "except URLError as e:\n",
    "    print(f\"URL Error: {e.reason} for URL: {url}\")\n",
    "except Exception as e:\n",
    "    print(f\"An unexpected error occurred: {e}\")"
   ]
  }
 ],
 "metadata": {
  "kernelspec": {
   "display_name": "vir_env",
   "language": "python",
   "name": "python3"
  },
  "language_info": {
   "codemirror_mode": {
    "name": "ipython",
    "version": 3
   },
   "file_extension": ".py",
   "mimetype": "text/x-python",
   "name": "python",
   "nbconvert_exporter": "python",
   "pygments_lexer": "ipython3",
   "version": "3.11.9"
  }
 },
 "nbformat": 4,
 "nbformat_minor": 5
}
