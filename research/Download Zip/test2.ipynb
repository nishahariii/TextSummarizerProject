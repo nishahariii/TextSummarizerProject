{
 "cells": [
  {
   "cell_type": "code",
   "execution_count": 5,
   "id": "0271979e",
   "metadata": {},
   "outputs": [
    {
     "name": "stdout",
     "output_type": "stream",
     "text": [
      "File downloaded successfully to downloaded_file1.zip\n"
     ]
    }
   ],
   "source": [
    "import urllib.request\n",
    "\n",
    "# URL of the file to download\n",
    "# url = \"https://github.com/nishahariii/DataSets/blob/main/samsumdata.zip\"\n",
    "# url = \"https://github.com/nishahariii/DataSets/blob/main/README.md\"\n",
    "# url = \"https://raw.githubusercontent.com/nishahariii/DataSets/refs/heads/main/README.md\"\n",
    "url =\"https://github.com/nishahariii/DataSets/raw/refs/heads/main/samsumdata.zip\"\n",
    "\n",
    "# Local path to save the file\n",
    "local_filename = \"downloaded_file1.zip\"\n",
    "\n",
    "try:\n",
    "    # Download the file\n",
    "    urllib.request.urlretrieve(url, local_filename)\n",
    "    print(f\"File downloaded successfully to {local_filename}\")\n",
    "except Exception as e:\n",
    "    print(f\"Error downloading file: {e}\")"
   ]
  }
 ],
 "metadata": {
  "kernelspec": {
   "display_name": "vir_env",
   "language": "python",
   "name": "python3"
  },
  "language_info": {
   "codemirror_mode": {
    "name": "ipython",
    "version": 3
   },
   "file_extension": ".py",
   "mimetype": "text/x-python",
   "name": "python",
   "nbconvert_exporter": "python",
   "pygments_lexer": "ipython3",
   "version": "3.11.9"
  }
 },
 "nbformat": 4,
 "nbformat_minor": 5
}
