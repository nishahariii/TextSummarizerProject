{
 "cells": [
  {
   "cell_type": "code",
   "execution_count": 2,
   "id": "9a7560fa",
   "metadata": {},
   "outputs": [
    {
     "data": {
      "text/plain": [
       "['C:\\\\Program Files\\\\WindowsApps\\\\PythonSoftwareFoundation.Python.3.11_3.11.2544.0_x64__qbz5n2kfra8p0\\\\python311.zip',\n",
       " 'C:\\\\Program Files\\\\WindowsApps\\\\PythonSoftwareFoundation.Python.3.11_3.11.2544.0_x64__qbz5n2kfra8p0\\\\DLLs',\n",
       " 'C:\\\\Program Files\\\\WindowsApps\\\\PythonSoftwareFoundation.Python.3.11_3.11.2544.0_x64__qbz5n2kfra8p0\\\\Lib',\n",
       " 'C:\\\\Program Files\\\\WindowsApps\\\\PythonSoftwareFoundation.Python.3.11_3.11.2544.0_x64__qbz5n2kfra8p0',\n",
       " 'c:\\\\Users\\\\kgn\\\\OneDrive - PowerSchool\\\\PowerSchool\\\\Release Script\\\\Python\\\\Data Scientist\\\\TextSummarizerProject\\\\vir_env',\n",
       " '',\n",
       " 'c:\\\\Users\\\\kgn\\\\OneDrive - PowerSchool\\\\PowerSchool\\\\Release Script\\\\Python\\\\Data Scientist\\\\TextSummarizerProject\\\\vir_env\\\\Lib\\\\site-packages',\n",
       " 'c:\\\\Users\\\\kgn\\\\OneDrive - PowerSchool\\\\PowerSchool\\\\Release Script\\\\Python\\\\Data Scientist\\\\TextSummarizerProject\\\\vir_env\\\\Lib\\\\site-packages\\\\win32',\n",
       " 'c:\\\\Users\\\\kgn\\\\OneDrive - PowerSchool\\\\PowerSchool\\\\Release Script\\\\Python\\\\Data Scientist\\\\TextSummarizerProject\\\\vir_env\\\\Lib\\\\site-packages\\\\win32\\\\lib',\n",
       " 'c:\\\\Users\\\\kgn\\\\OneDrive - PowerSchool\\\\PowerSchool\\\\Release Script\\\\Python\\\\Data Scientist\\\\TextSummarizerProject\\\\vir_env\\\\Lib\\\\site-packages\\\\Pythonwin']"
      ]
     },
     "execution_count": 2,
     "metadata": {},
     "output_type": "execute_result"
    }
   ],
   "source": [
    "import sys\n",
    "import os\n",
    "# pwd\n",
    "sys.path"
   ]
  },
  {
   "cell_type": "code",
   "execution_count": 8,
   "id": "5376f3d0",
   "metadata": {},
   "outputs": [],
   "source": [
    "os.chdir(\"../\")\n",
    "# src_path = os.path.abspath(os.path.join(os.getcwd() ,\"../\"))\n",
    "# sys.path.append(src_path)\n",
    "# src_path = os.path.abspath(os.path.join(os.getcwd() ,\"../src\"))\n",
    "# sys.path.append(src_path)\n",
    "# sys.path"
   ]
  },
  {
   "cell_type": "code",
   "execution_count": 10,
   "id": "5562d78d",
   "metadata": {},
   "outputs": [],
   "source": [
    "from dataclasses import dataclass\n",
    "from pathlib import Path\n",
    "\n",
    "@dataclass(frozen = True)\n",
    "class DataIngestionConfig:\n",
    "    root_dir:Path\n",
    "    source_URL:str\n",
    "    local_data_file: Path\n",
    "    unzip_dir:Path"
   ]
  },
  {
   "cell_type": "code",
   "execution_count": null,
   "id": "e6918d3c",
   "metadata": {},
   "outputs": [
    {
     "name": "stdout",
     "output_type": "stream",
     "text": [
      "The autoreload extension is already loaded. To reload it, use:\n",
      "  %reload_ext autoreload\n"
     ]
    },
    {
     "data": {
      "text/plain": [
       "'c:\\\\Users\\\\kgn\\\\OneDrive - PowerSchool\\\\PowerSchool\\\\Release Script\\\\Python\\\\Data Scientist\\\\TextSummarizerProject\\\\research'"
      ]
     },
     "execution_count": 7,
     "metadata": {},
     "output_type": "execute_result"
    }
   ],
   "source": [
    "# %load_ext autoreload\n",
    "\n",
    "# %autoreload 2\n",
    "\n",
    "from textSummarizer.constants.constants import CONFIG_FILE_PATH,PARAMS_FILE_PATH, MY_CONSTANT\n",
    "# from textSummarizer.constants import *\n",
    "from textSummarizer.utils.common import read_yaml, create_directories, get_file_path\n",
    "# print(os.getcwd())\n",
    "# import importlib\n",
    "# importlib.reload(textSummarizer) \n",
    "# importlib.reload(textSummarizer.utils.common)\n",
    "# MY_CONSTANT\n"
   ]
  },
  {
   "cell_type": "code",
   "execution_count": null,
   "id": "c8287e0b",
   "metadata": {},
   "outputs": [],
   "source": [
    "class ConfigurationManager:\n",
    "    def __init__(self, config_filepath = CONFIG_FILE_PATH, params_filepath = PARAMS_FILE_PATH):       \n",
    "        # get_file_path()\n",
    "        self.config = read_yaml(config_filepath)\n",
    "        self.params = read_yaml(params_filepath)\n",
    "        create_directories([self.config.artifacts_root])\n",
    "\n",
    "    def get_data_ingestion_config(self) -> DataIngestionConfig:\n",
    "        config = self.config.data_ingestion\n",
    "        create_directories([config.root_dir])\n",
    "        data_ingestion_config = DataIngestionConfig(\n",
    "            root_dir = Path(config.root_dir),\n",
    "            source_URL = config.source_URL,\n",
    "            local_data_file = Path(config.local_data_file),\n",
    "            unzip_dir = Path(config.unzip_dir)\n",
    "        )\n",
    "        return data_ingestion_config\n",
    "# test = ConfigurationManager()\n",
    "    "
   ]
  },
  {
   "cell_type": "code",
   "execution_count": 23,
   "id": "334b9972",
   "metadata": {},
   "outputs": [],
   "source": [
    "import os\n",
    "import urllib.request as request\n",
    "import zipfile\n",
    "from textSummarizer.logging import logger\n",
    "from textSummarizer.utils.common import get_size\n",
    "from urllib.error import HTTPError, URLError\n"
   ]
  },
  {
   "cell_type": "code",
   "execution_count": null,
   "id": "468132a0",
   "metadata": {},
   "outputs": [],
   "source": [
    "class DataIngestion:\n",
    "    def __init__(self, config: DataIngestionConfig):\n",
    "        self.config = config\n",
    "\n",
    "    def download_file(self):\n",
    "        try:\n",
    "            if not os.path.exists(self.config.local_data_file):\n",
    "                # print(self.config.source_URL)\n",
    "                filename,headers = request.urlretrieve(url = self.config.source_URL, filename=self.config.local_data_file)\n",
    "                logger.info(f\"{filename} download! with following info: \\n{headers}\")\n",
    "            else:\n",
    "                logger.info(f\"File {Path(self.config.local_data_file)} already exists of size {get_size(Path(self.config.local_data_file))}\")\n",
    "        except HTTPError as e:\n",
    "            if e.code == 404:\n",
    "                print(f\"HTTP Error 404: The requested resource at {url} was not found.\")\n",
    "            else:\n",
    "                print(f\"HTTP Error {e.code}: {e.reason} for URL: {url}\")\n",
    "        except URLError as e:\n",
    "            print(f\"URL Error: {e.reason} for URL: {url}\")\n",
    "        except Exception as e:\n",
    "            print(f\"An unexpected error occurred: {e}\")\n",
    "\n",
    "    def extract_zip_file(self):\n",
    "        unzip_path = self.config.unzip_dir\n",
    "        os.makedirs(unzip_path, exist_ok=True)\n",
    "        with zipfile.ZipFile(self.config.local_data_file, 'r') as zip_ref:\n",
    "            zip_ref.extractall(unzip_path)\n",
    "            logger.info(f\"Extracted all the files to {unzip_path}\")\n",
    "    def download_extract_zip_file(self):\n",
    "        zip_path, _ = request.urlretrieve(self.config.source_URL)\n",
    "        logger.info(f\"{zip_path} download! with following info:\")\n",
    "        with zipfile.ZipFile(zip_path, \"r\") as f:\n",
    "            f.extractall(self.config.unzip_dir)   \n",
    "\n",
    "            "
   ]
  },
  {
   "cell_type": "code",
   "execution_count": 51,
   "id": "9a07d9cd",
   "metadata": {},
   "outputs": [
    {
     "name": "stdout",
     "output_type": "stream",
     "text": [
      "[2025-06-24 14:06:42,418:INFO:common:yaml file: config\\config.yaml loaded successfully.]\n",
      "[2025-06-24 14:06:42,424:INFO:common:created directory at: artifacts/data_ingestion]\n",
      "[2025-06-24 14:06:43,639:INFO:3323216149:artifacts\\data_ingestion_data.zip download! with following info: \n",
      "Connection: close\n",
      "Content-Length: 23627009\n",
      "Cache-Control: max-age=300\n",
      "Content-Security-Policy: default-src 'none'; style-src 'unsafe-inline'; sandbox\n",
      "Content-Type: application/zip\n",
      "ETag: \"2e7409b328d118a1d37018be788babf8bf9640386387da766ac100e96efa3b93\"\n",
      "Strict-Transport-Security: max-age=31536000\n",
      "X-Content-Type-Options: nosniff\n",
      "X-Frame-Options: deny\n",
      "X-XSS-Protection: 1; mode=block\n",
      "X-GitHub-Request-Id: 6D82:3F9127:496F16:AB8D7C:685A62C3\n",
      "Via: 1.1 varnish, 1.1 varnish\n",
      "Expires: Tue, 24 Jun 2025 08:38:09 GMT\n",
      "Accept-Ranges: bytes\n",
      "Date: Tue, 24 Jun 2025 08:36:43 GMT\n",
      "X-Served-By: cache-bom4731-BOM, cache-bom4727-BOM\n",
      "X-Cache: MISS, HIT\n",
      "X-Cache-Hits: 0, 0\n",
      "X-Timer: S1750754204.912345,VS0,VE1\n",
      "Vary: Authorization,Accept-Encoding\n",
      "Access-Control-Allow-Origin: *\n",
      "Cross-Origin-Resource-Policy: cross-origin\n",
      "X-Fastly-Request-ID: f3f8252cb2330c939360b13fb314eca51f041682\n",
      "Source-Age: 214\n",
      "\n",
      "]\n",
      "[2025-06-24 14:06:43,952:INFO:3323216149:Extracted all the files to artifacts\\data_ingestion]\n"
     ]
    }
   ],
   "source": [
    "try:\n",
    "    config = ConfigurationManager()\n",
    "    data_ingestion_config = config.get_data_ingestion_config()\n",
    "    data_ingestion = DataIngestion(config=data_ingestion_config)\n",
    "    data_ingestion.download_file()\n",
    "    data_ingestion.extract_zip_file()\n",
    "    # data_ingestion.download_extract_zip_file()\n",
    "except Exception as e:\n",
    "    logger.exception(e)\n",
    "    raise e\n"
   ]
  },
  {
   "cell_type": "code",
   "execution_count": null,
   "id": "8b2c7ec1",
   "metadata": {},
   "outputs": [],
   "source": []
  }
 ],
 "metadata": {
  "kernelspec": {
   "display_name": "vir_env",
   "language": "python",
   "name": "python3"
  },
  "language_info": {
   "codemirror_mode": {
    "name": "ipython",
    "version": 3
   },
   "file_extension": ".py",
   "mimetype": "text/x-python",
   "name": "python",
   "nbconvert_exporter": "python",
   "pygments_lexer": "ipython3",
   "version": "3.11.9"
  }
 },
 "nbformat": 4,
 "nbformat_minor": 5
}
