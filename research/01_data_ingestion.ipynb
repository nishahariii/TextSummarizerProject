{
 "cells": [
  {
   "cell_type": "code",
   "execution_count": 1,
   "id": "9a7560fa",
   "metadata": {},
   "outputs": [
    {
     "data": {
      "text/plain": [
       "'f:\\\\Data Scientist\\\\TextSummarizerProject\\\\research'"
      ]
     },
     "execution_count": 1,
     "metadata": {},
     "output_type": "execute_result"
    }
   ],
   "source": [
    "import sys\n",
    "import os\n",
    "%pwd\n",
    "# sys.path"
   ]
  },
  {
   "cell_type": "code",
   "execution_count": 2,
   "id": "5376f3d0",
   "metadata": {},
   "outputs": [
    {
     "data": {
      "text/plain": [
       "'f:\\\\Data Scientist\\\\TextSummarizerProject'"
      ]
     },
     "execution_count": 2,
     "metadata": {},
     "output_type": "execute_result"
    }
   ],
   "source": [
    "os.chdir(\"../\")\n",
    "%pwd"
   ]
  },
  {
   "cell_type": "code",
   "execution_count": 3,
   "id": "5562d78d",
   "metadata": {},
   "outputs": [],
   "source": [
    "from dataclasses import dataclass\n",
    "from pathlib import Path\n",
    "\n",
    "@dataclass(frozen = True)\n",
    "class DataIngestionConfig:\n",
    "    root_dir:Path\n",
    "    source_URL:str\n",
    "    local_data_file: Path\n",
    "    unzip_dir:Path"
   ]
  },
  {
   "cell_type": "code",
   "execution_count": 6,
   "id": "e6918d3c",
   "metadata": {},
   "outputs": [],
   "source": [
    "# %load_ext autoreload\n",
    "\n",
    "# %autoreload 2\n",
    "\n",
    "from textSummarizer.constants.constants import CONFIG_FILE_PATH,PARAMS_FILE_PATH, MY_CONSTANT\n",
    "# from textSummarizer.constants import *\n",
    "from textSummarizer.utils.common import read_yaml, create_directories, get_file_path\n",
    "# print(os.getcwd())\n",
    "# import importlib\n",
    "# importlib.reload(textSummarizer) \n",
    "# importlib.reload(textSummarizer.utils.common)\n",
    "# MY_CONSTANT\n"
   ]
  },
  {
   "cell_type": "code",
   "execution_count": 7,
   "id": "c8287e0b",
   "metadata": {},
   "outputs": [],
   "source": [
    "class ConfigurationManager:\n",
    "    def __init__(self, config_filepath = CONFIG_FILE_PATH, params_filepath = PARAMS_FILE_PATH):       \n",
    "        # get_file_path()\n",
    "        self.config = read_yaml(config_filepath)\n",
    "        self.params = read_yaml(params_filepath)\n",
    "        create_directories([self.config.artifacts_root])\n",
    "\n",
    "    def get_data_ingestion_config(self) -> DataIngestionConfig:\n",
    "        config = self.config.data_ingestion\n",
    "        create_directories([config.root_dir])\n",
    "        data_ingestion_config = DataIngestionConfig(\n",
    "            root_dir = Path(config.root_dir),\n",
    "            source_URL = config.source_URL,\n",
    "            local_data_file = Path(config.local_data_file),\n",
    "            unzip_dir = Path(config.unzip_dir)\n",
    "        )\n",
    "        return data_ingestion_config\n",
    "# test = ConfigurationManager()\n",
    "    "
   ]
  },
  {
   "cell_type": "code",
   "execution_count": 8,
   "id": "334b9972",
   "metadata": {},
   "outputs": [],
   "source": [
    "import os\n",
    "import urllib.request as request\n",
    "import zipfile\n",
    "from textSummarizer.logging import logger\n",
    "from textSummarizer.utils.common import get_size\n",
    "from urllib.error import HTTPError, URLError\n"
   ]
  },
  {
   "cell_type": "code",
   "execution_count": 9,
   "id": "468132a0",
   "metadata": {},
   "outputs": [],
   "source": [
    "class DataIngestion:\n",
    "    def __init__(self, config: DataIngestionConfig):\n",
    "        self.config = config\n",
    "\n",
    "    def download_file(self):\n",
    "        try:\n",
    "            if not os.path.exists(self.config.local_data_file):\n",
    "                # print(self.config.source_URL)\n",
    "                filename,headers = request.urlretrieve(url = self.config.source_URL, filename=self.config.local_data_file)\n",
    "                logger.info(f\"{filename} download! with following info: \\n{headers}\")\n",
    "            else:\n",
    "                logger.info(f\"File {Path(self.config.local_data_file)} already exists of size {get_size(Path(self.config.local_data_file))}\")\n",
    "        except HTTPError as e:\n",
    "            if e.code == 404:\n",
    "                print(f\"HTTP Error 404: The requested resource at {url} was not found.\")\n",
    "            else:\n",
    "                print(f\"HTTP Error {e.code}: {e.reason} for URL: {url}\")\n",
    "        except URLError as e:\n",
    "            print(f\"URL Error: {e.reason} for URL: {url}\")\n",
    "        except Exception as e:\n",
    "            print(f\"An unexpected error occurred: {e}\")\n",
    "\n",
    "    def extract_zip_file(self):\n",
    "        unzip_path = self.config.unzip_dir\n",
    "        os.makedirs(unzip_path, exist_ok=True)\n",
    "        with zipfile.ZipFile(self.config.local_data_file, 'r') as zip_ref:\n",
    "            zip_ref.extractall(unzip_path)\n",
    "            logger.info(f\"Extracted all the files to {unzip_path}\")\n",
    "    def download_extract_zip_file(self):\n",
    "        zip_path, _ = request.urlretrieve(self.config.source_URL)\n",
    "        logger.info(f\"{zip_path} download! with following info:\")\n",
    "        with zipfile.ZipFile(zip_path, \"r\") as f:\n",
    "            f.extractall(self.config.unzip_dir)   \n",
    "\n",
    "            "
   ]
  },
  {
   "cell_type": "code",
   "execution_count": 10,
   "id": "9a07d9cd",
   "metadata": {},
   "outputs": [
    {
     "name": "stdout",
     "output_type": "stream",
     "text": [
      "[2025-06-26 21:29:15,312:INFO:common:yaml file: config\\config.yaml loaded successfully.]\n"
     ]
    },
    {
     "name": "stdout",
     "output_type": "stream",
     "text": [
      "[2025-06-26 21:29:15,340:INFO:common:yaml file: params.yaml loaded successfully.]\n",
      "[2025-06-26 21:29:15,341:INFO:common:created directory at: artifacts]\n",
      "[2025-06-26 21:29:15,345:INFO:common:created directory at: artifacts/data_ingestion]\n",
      "[2025-06-26 21:29:15,349:INFO:3985408789:File artifacts\\data_ingestion_data.zip already exists of size ~ 23073 KB]\n",
      "[2025-06-26 21:29:16,557:INFO:3985408789:Extracted all the files to artifacts\\data_ingestion]\n"
     ]
    }
   ],
   "source": [
    "try:\n",
    "    config = ConfigurationManager()\n",
    "    data_ingestion_config = config.get_data_ingestion_config()\n",
    "    data_ingestion = DataIngestion(config=data_ingestion_config)\n",
    "    data_ingestion.download_file()\n",
    "    data_ingestion.extract_zip_file()\n",
    "    # data_ingestion.download_extract_zip_file()\n",
    "except Exception as e:\n",
    "    logger.exception(e)\n",
    "    raise e\n"
   ]
  },
  {
   "cell_type": "code",
   "execution_count": null,
   "id": "8b2c7ec1",
   "metadata": {},
   "outputs": [],
   "source": []
  }
 ],
 "metadata": {
  "kernelspec": {
   "display_name": "vir_env",
   "language": "python",
   "name": "python3"
  },
  "language_info": {
   "codemirror_mode": {
    "name": "ipython",
    "version": 3
   },
   "file_extension": ".py",
   "mimetype": "text/x-python",
   "name": "python",
   "nbconvert_exporter": "python",
   "pygments_lexer": "ipython3",
   "version": "3.13.5"
  }
 },
 "nbformat": 4,
 "nbformat_minor": 5
}
