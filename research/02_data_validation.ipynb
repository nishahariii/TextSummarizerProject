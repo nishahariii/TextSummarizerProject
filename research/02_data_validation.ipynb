{
 "cells": [
  {
   "cell_type": "code",
   "execution_count": 1,
   "id": "52c50f8c",
   "metadata": {},
   "outputs": [],
   "source": [
    "import os"
   ]
  },
  {
   "cell_type": "code",
   "execution_count": 2,
   "id": "52a203bf",
   "metadata": {},
   "outputs": [
    {
     "data": {
      "text/plain": [
       "'c:\\\\Users\\\\kgn\\\\OneDrive - PowerSchool\\\\PowerSchool\\\\Release Script\\\\Python\\\\Data Scientist\\\\TextSummarizerProject\\\\research'"
      ]
     },
     "execution_count": 2,
     "metadata": {},
     "output_type": "execute_result"
    }
   ],
   "source": [
    "%pwd"
   ]
  },
  {
   "cell_type": "code",
   "execution_count": null,
   "id": "3b131f45",
   "metadata": {},
   "outputs": [],
   "source": [
    "# os.chdir(\"../\")"
   ]
  },
  {
   "cell_type": "code",
   "execution_count": 4,
   "id": "bcab7d9a",
   "metadata": {},
   "outputs": [
    {
     "data": {
      "text/plain": [
       "'c:\\\\Users\\\\kgn\\\\OneDrive - PowerSchool\\\\PowerSchool\\\\Release Script\\\\Python\\\\Data Scientist\\\\TextSummarizerProject'"
      ]
     },
     "execution_count": 4,
     "metadata": {},
     "output_type": "execute_result"
    }
   ],
   "source": [
    "%pwd"
   ]
  },
  {
   "cell_type": "code",
   "execution_count": 38,
   "id": "0d377fb0",
   "metadata": {},
   "outputs": [],
   "source": [
    "from dataclasses import dataclass\n",
    "from pathlib import Path\n",
    "\n",
    "@dataclass(frozen=True)\n",
    "class DataValidationConfig:\n",
    "    root_dir: Path\n",
    "    STATUS_FILE: str\n",
    "    ALL_REQUIRED_FILES: list"
   ]
  },
  {
   "cell_type": "code",
   "execution_count": 35,
   "id": "8be38bb0",
   "metadata": {},
   "outputs": [],
   "source": [
    "# %load_ext autoreload\n",
    "# %autoreload 2\n",
    "from textSummarizer.constants.constants import CONFIG_FILE_PATH,PARAMS_FILE_PATH\n",
    "from textSummarizer.utils.common import read_yaml, create_directories"
   ]
  },
  {
   "cell_type": "code",
   "execution_count": 42,
   "id": "e49dcf5f",
   "metadata": {},
   "outputs": [],
   "source": [
    "class ConfigurationManager:\n",
    "    def __init__(self, config_filepath=CONFIG_FILE_PATH, params_filepath = PARAMS_FILE_PATH):\n",
    "        self.config = read_yaml(config_filepath)\n",
    "        self.params = read_yaml(params_filepath)\n",
    "        create_directories([self.config.artifacts_root])\n",
    "    def get_data_validation_config(self) -> DataValidationConfig:\n",
    "        config = self.config.data_validation\n",
    "        create_directories([config.root_dir])\n",
    "        data_validation_config = DataValidationConfig(\n",
    "            root_dir = Path(config.root_dir),\n",
    "            STATUS_FILE = config.STATUS_FILE, \n",
    "            ALL_REQUIRED_FILES = config.ALL_REQUIRED_FILES\n",
    "        )\n",
    "        return data_validation_config\n",
    "# test = ConfigurationManager()\n",
    "# v1 = test.get_data_validation_config()"
   ]
  },
  {
   "cell_type": "code",
   "execution_count": 31,
   "id": "f7a45c02",
   "metadata": {},
   "outputs": [],
   "source": [
    "import os\n",
    "from textSummarizer.logging import logger"
   ]
  },
  {
   "cell_type": "code",
   "execution_count": 32,
   "id": "17491834",
   "metadata": {},
   "outputs": [],
   "source": [
    "class DataValidation:\n",
    "    def __init__(self, config = DataValidationConfig):\n",
    "        self.config = config\n",
    "    def validate_all_files_exist(self) -> bool:\n",
    "        try:\n",
    "            validation_status = None\n",
    "            all_files = os.listdir(os.path.join(\"artifacts\",\"data_ingestion\",\"samsum_dataset\"))\n",
    "            for file in all_files:\n",
    "                if file not in self.config.ALL_REQUIRED_FILES:\n",
    "                    validation_status = False\n",
    "                    with open(self.config.STATUS_FILE, 'w') as f:\n",
    "                        f.write(f\"Validation Status: {validation_status}\")\n",
    "                else:\n",
    "                    validation_status = True\n",
    "                    with open(self.config.STATUS_FILE, \"w\") as f:\n",
    "                        f.write(f\"Validation Status: {validation_status}\")\n",
    "            return validation_status\n",
    "        except Exception as e: \n",
    "            raise e"
   ]
  },
  {
   "cell_type": "code",
   "execution_count": 43,
   "id": "cf7dbe8a",
   "metadata": {},
   "outputs": [
    {
     "name": "stdout",
     "output_type": "stream",
     "text": [
      "[2025-06-25 08:27:32,484:INFO:common:yaml file: config\\config.yaml loaded successfully.]\n",
      "[2025-06-25 08:27:32,487:INFO:common:yaml file: params.yaml loaded successfully.]\n",
      "[2025-06-25 08:27:32,489:INFO:common:created directory at: artifacts]\n",
      "[2025-06-25 08:27:32,491:INFO:common:created directory at: artifacts/data_validation]\n"
     ]
    }
   ],
   "source": [
    "try:\n",
    "    config = ConfigurationManager()\n",
    "    data_validation_config = config.get_data_validation_config()\n",
    "    data_validation = DataValidation(config=data_validation_config)\n",
    "    data_validation.validate_all_files_exist()\n",
    "except Exception as e:\n",
    "    raise e\n"
   ]
  }
 ],
 "metadata": {
  "kernelspec": {
   "display_name": "vir_env",
   "language": "python",
   "name": "python3"
  },
  "language_info": {
   "codemirror_mode": {
    "name": "ipython",
    "version": 3
   },
   "file_extension": ".py",
   "mimetype": "text/x-python",
   "name": "python",
   "nbconvert_exporter": "python",
   "pygments_lexer": "ipython3",
   "version": "3.11.9"
  }
 },
 "nbformat": 4,
 "nbformat_minor": 5
}
